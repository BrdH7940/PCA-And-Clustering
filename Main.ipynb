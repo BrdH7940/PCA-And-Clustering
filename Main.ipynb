{
 "cells": [
  {
   "cell_type": "markdown",
   "id": "13cfa9fb",
   "metadata": {},
   "source": [
    "# 1. PCA Programming"
   ]
  },
  {
   "cell_type": "markdown",
   "id": "ee166d3e",
   "metadata": {},
   "source": [
    "## 1.1. Download Dataset"
   ]
  },
  {
   "cell_type": "code",
   "execution_count": null,
   "id": "33a51ec0",
   "metadata": {
    "ExecuteTime": {
     "end_time": "2025-05-12T07:40:14.652218Z",
     "start_time": "2025-05-12T07:40:14.266626Z"
    }
   },
   "outputs": [],
   "source": [
    "from sklearn.datasets import load_iris\n",
    "from sklearn.model_selection import train_test_split\n",
    "from sklearn.preprocessing import StandardScaler\n",
    "import numpy as np\n",
    "import pandas as pd\n",
    "import seaborn as sns\n",
    "from PCA import *\n",
    "from Utils.Utils import *\n",
    "import warnings\n",
    "\n",
    "warnings.filterwarnings(\"ignore\")\n",
    "\n",
    "iris = load_iris()\n",
    "X = pd.DataFrame(iris['data'], columns = iris['feature_names'])\n",
    "y = pd.DataFrame(iris['target'], columns = ['species'])"
   ]
  },
  {
   "cell_type": "markdown",
   "id": "147a4e43",
   "metadata": {},
   "source": [
    "## 1.2. EDA"
   ]
  },
  {
   "cell_type": "code",
   "execution_count": null,
   "id": "7863bdea",
   "metadata": {},
   "outputs": [],
   "source": [
    "X.head()"
   ]
  },
  {
   "cell_type": "code",
   "execution_count": null,
   "id": "0c46d056",
   "metadata": {},
   "outputs": [],
   "source": [
    "X.info()"
   ]
  },
  {
   "cell_type": "code",
   "execution_count": null,
   "id": "4a7ee4b4",
   "metadata": {},
   "outputs": [],
   "source": [
    "X.describe()"
   ]
  },
  {
   "cell_type": "code",
   "execution_count": null,
   "id": "b3656833",
   "metadata": {},
   "outputs": [],
   "source": [
    "X_all = pd.concat([X, y], axis = 1)\n",
    "\n",
    "sns.pairplot(X_all, hue='species', palette='tab10', diag_kind='hist')"
   ]
  },
  {
   "cell_type": "markdown",
   "id": "faa30ddd",
   "metadata": {},
   "source": [
    "# 2. PCA"
   ]
  },
  {
   "cell_type": "code",
   "execution_count": null,
   "id": "27a05c3e",
   "metadata": {},
   "outputs": [],
   "source": [
    "X, y = np.array(X), np.array(y)"
   ]
  },
  {
   "cell_type": "code",
   "execution_count": null,
   "id": "9986cfdb",
   "metadata": {},
   "outputs": [],
   "source": [
    "my_pca = MyPCA(n_components = 2)\n",
    "my_pca.fit(X)"
   ]
  },
  {
   "cell_type": "code",
   "execution_count": null,
   "id": "ca0122aa",
   "metadata": {},
   "outputs": [],
   "source": [
    "# Transform\n",
    "X_transformed = my_pca.transform(X)\n",
    "print(\"\\nDữ liệu sau khi biến đổi (X_transformed) có shape:\", X_transformed.shape)\n",
    "print(\"Một vài mẫu dữ liệu sau khi biến đổi:\")\n",
    "print(X_transformed[:5, :])"
   ]
  },
  {
   "cell_type": "markdown",
   "id": "32b0c6ca",
   "metadata": {},
   "source": [
    "# Check PCA của sklearn"
   ]
  },
  {
   "cell_type": "code",
   "execution_count": null,
   "id": "46828582",
   "metadata": {},
   "outputs": [],
   "source": [
    "from sklearn.decomposition import PCA as SklearnPCA\n",
    "\n",
    "print(\"--- Kiểm tra với sklearn.decomposition.PCA ---\")\n",
    "# 1. Khởi tạo PCA của sklearn\n",
    "sklearn_pca = SklearnPCA(n_components=2)\n",
    "\n",
    "# 2. Khớp mô hình với dữ liệu X\n",
    "sklearn_pca.fit(X)\n",
    "\n",
    "# 3. Biến đổi dữ liệu X\n",
    "X_transformed_sklearn = sklearn_pca.transform(X)\n",
    "\n",
    "print(\"\\nTỷ lệ phương sai giải thích (EVR) cho từng thành phần (sklearn.explained_variance_ratio_):\")\n",
    "# Đây là EVR cho n_components đã chọn\n",
    "print(sklearn_pca.explained_variance_ratio_)\n",
    "# Tương đương với self.explained_variance_ratio_[:n_components] của MyPCA\n",
    "\n",
    "print(\"\\nPhương sai giải thích bởi từng thành phần (sklearn.explained_variance_):\")\n",
    "# Đây là các trị riêng tương ứng với n_components đã chọn, không phải tỷ lệ\n",
    "print(sklearn_pca.explained_variance_)\n",
    "# Tương đương với self.explained_variance_[:n_components] của MyPCA\n",
    "\n",
    "# sklearn không có thuộc tính CEVR trực tiếp, nhưng có thể dễ dàng tính từ EVR\n",
    "cumulative_explained_variance_ratio_sklearn = np.cumsum(sklearn_pca.explained_variance_ratio_)\n",
    "print(\"\\nTỷ lệ phương sai giải thích tích lũy (CEVR) tính từ sklearn.explained_variance_ratio_:\")\n",
    "for i, cum_ratio in enumerate(cumulative_explained_variance_ratio_sklearn):\n",
    "    print(f\"  PC1 đến PC{i+1}: {cum_ratio:.4f}\")\n",
    "print(f\"Tổng phương sai được giải thích bởi {sklearn_pca.n_components_} thành phần: {cumulative_explained_variance_ratio_sklearn[-1]:.4f}\")\n",
    "# Giá trị cuối cùng này tương đương với self.cumulative_explained_variance_ratio_[n_components-1] của MyPCA\n",
    "\n",
    "print(\"\\nDữ liệu sau khi biến đổi (X_transformed_sklearn) có shape:\", X_transformed_sklearn.shape)\n",
    "print(\"Một vài mẫu dữ liệu sau khi biến đổi (sklearn):\")\n",
    "print(X_transformed_sklearn[:5, :]) # Tương đương với X_transformed của MyPCA\n",
    "print(\"---------------------------------------------\")"
   ]
  },
  {
   "cell_type": "markdown",
   "id": "a9bb8432",
   "metadata": {},
   "source": [
    "# 3. K-Means Clustering"
   ]
  },
  {
   "cell_type": "markdown",
   "id": "87e2b70f",
   "metadata": {},
   "source": [
    "## 3.1. Data Preprocessing"
   ]
  },
  {
   "cell_type": "code",
   "execution_count": null,
   "id": "94dfb64b",
   "metadata": {},
   "outputs": [],
   "source": [
    "X = pd.read_csv('Dataset/ABIDE2.csv', index_col = 0)\n",
    "y = X['group']"
   ]
  },
  {
   "cell_type": "code",
   "execution_count": null,
   "id": "5aef1e60",
   "metadata": {},
   "outputs": [],
   "source": [
    "X.head(5)"
   ]
  },
  {
   "cell_type": "code",
   "execution_count": null,
   "id": "f7e211a5",
   "metadata": {},
   "outputs": [],
   "source": [
    "X.info()"
   ]
  },
  {
   "cell_type": "code",
   "execution_count": null,
   "id": "89cb925e",
   "metadata": {},
   "outputs": [],
   "source": [
    "X.describe()"
   ]
  },
  {
   "cell_type": "code",
   "execution_count": null,
   "id": "e483575ba00d9a08",
   "metadata": {
    "ExecuteTime": {
     "end_time": "2025-05-12T07:40:20.499727Z",
     "start_time": "2025-05-12T07:40:16.142486Z"
    }
   },
   "outputs": [],
   "source": [
    "run_experiment(\n",
    "    \"Dataset/ABIDE2.csv\",\n",
    "    skew_threshold=0.1,\n",
    "    component_range=[1],\n",
    "    k=2,\n",
    "    visualize=False,\n",
    "    algorithm=\"KMeans\",\n",
    "    use_poly=False\n",
    ")"
   ]
  },
  {
   "cell_type": "code",
   "execution_count": null,
   "id": "df86cffb90679e48",
   "metadata": {
    "ExecuteTime": {
     "end_time": "2025-05-12T06:05:18.646399Z",
     "start_time": "2025-05-12T06:04:43.007787Z"
    }
   },
   "outputs": [],
   "source": [
    "run_experiment(\n",
    "    \"Dataset/ABIDE2.csv\",\n",
    "    skew_threshold=0.1,\n",
    "    component_range=[2],\n",
    "    k=2,\n",
    "    visualize=False,\n",
    "    algorithm=\"KMeans\",\n",
    "    use_poly=True\n",
    ")"
   ]
  },
  {
   "cell_type": "code",
   "execution_count": null,
   "id": "fbb169ec53137bae",
   "metadata": {
    "ExecuteTime": {
     "end_time": "2025-05-12T06:09:38.939370Z",
     "start_time": "2025-05-12T06:09:34.538597Z"
    }
   },
   "outputs": [],
   "source": [
    "run_experiment(\n",
    "    \"Dataset/ABIDE2.csv\",\n",
    "    skew_threshold=1.0,\n",
    "    component_range=[10],\n",
    "    k=2,\n",
    "    visualize=False,\n",
    "    algorithm=\"GMM\",\n",
    "    use_poly=False\n",
    ")"
   ]
  },
  {
   "cell_type": "code",
   "execution_count": null,
   "id": "a44329df1f4bff8f",
   "metadata": {
    "ExecuteTime": {
     "end_time": "2025-05-12T06:12:15.581328Z",
     "start_time": "2025-05-12T06:11:47.759178Z"
    }
   },
   "outputs": [],
   "source": [
    "run_experiment(\n",
    "    \"Dataset/ABIDE2.csv\",\n",
    "    skew_threshold=0.1,\n",
    "    component_range=[5],\n",
    "    k=2,\n",
    "    visualize=False,\n",
    "    algorithm=\"GMM\",\n",
    "    use_poly=True\n",
    ")"
   ]
  }
 ],
 "metadata": {
  "kernelspec": {
   "display_name": "DeepML",
   "language": "python",
   "name": "python3"
  },
  "language_info": {
   "codemirror_mode": {
    "name": "ipython",
    "version": 3
   },
   "file_extension": ".py",
   "mimetype": "text/x-python",
   "name": "python",
   "nbconvert_exporter": "python",
   "pygments_lexer": "ipython3",
   "version": "3.11.7"
  }
 },
 "nbformat": 4,
 "nbformat_minor": 5
}
