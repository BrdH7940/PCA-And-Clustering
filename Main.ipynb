{
 "cells": [
  {
   "metadata": {},
   "cell_type": "markdown",
   "source": "# 1. Lập trình PCA",
   "id": "47cdf206905df559"
  },
  {
   "metadata": {},
   "cell_type": "markdown",
   "source": "## 1.1. Tải tập dữ liệu Iris",
   "id": "643dfa272081fa6a"
  },
  {
   "metadata": {},
   "cell_type": "markdown",
   "source": "Import các thư viện cần thiết cho toàn bộ notebook. Đồng thời tải bộ dữ liệu Iris, tách riêng các đặc trưng (features) vào `X` và nhãn (target) vào `y`",
   "id": "729a40664cb3aec6"
  },
  {
   "metadata": {},
   "cell_type": "code",
   "outputs": [],
   "execution_count": null,
   "source": [
    "from sklearn.datasets import load_iris\n",
    "from sklearn.model_selection import train_test_split\n",
    "from sklearn.preprocessing import StandardScaler\n",
    "import numpy as np\n",
    "import pandas as pd\n",
    "import seaborn as sns\n",
    "from PCA import *\n",
    "from Utils.Utils import *\n",
    "import warnings\n",
    "\n",
    "warnings.filterwarnings(\"ignore\")\n",
    "\n",
    "iris = load_iris()\n",
    "X = pd.DataFrame(iris['data'], columns = iris['feature_names'])\n",
    "y = pd.DataFrame(iris['target'], columns = ['species'])"
   ],
   "id": "49a1ac9c22ec0334"
  },
  {
   "metadata": {},
   "cell_type": "markdown",
   "source": "## 1.2. Phân tích dữ liệu khám phá (EDA) trên tập Iris",
   "id": "35938882f4108d98"
  },
  {
   "metadata": {},
   "cell_type": "markdown",
   "source": "Hiển thị 5 dòng đầu tiên của DataFrame đặc trưng `X` để có cái nhìn tổng quan về dữ liệu.",
   "id": "e22d04b1bf0bca40"
  },
  {
   "metadata": {},
   "cell_type": "code",
   "outputs": [],
   "execution_count": null,
   "source": "X.head()",
   "id": "f80108a8f80f6275"
  },
  {
   "metadata": {},
   "cell_type": "markdown",
   "source": "Cung cấp thông tin tóm tắt về DataFrame `X`, bao gồm kiểu dữ liệu của mỗi cột và số lượng giá trị không null.",
   "id": "cec0bb4ae0921298"
  },
  {
   "metadata": {},
   "cell_type": "code",
   "outputs": [],
   "execution_count": null,
   "source": "X.info()",
   "id": "13cd578a919f9ec"
  },
  {
   "metadata": {},
   "cell_type": "markdown",
   "source": "Tính toán và hiển thị các thống kê mô tả cho các cột numerical trong DataFrame `X`.",
   "id": "45a0aa232832c126"
  },
  {
   "metadata": {},
   "cell_type": "code",
   "outputs": [],
   "execution_count": null,
   "source": "X.describe()",
   "id": "63fef92b9c51a54d"
  },
  {
   "metadata": {},
   "cell_type": "markdown",
   "source": [
    "Kết hợp DataFrame đặc trưng `X` và DataFrame nhãn `y` thành một DataFrame duy nhất `X_all`.\n",
    "\n",
    "Sau đó vẽ biểu đồ phân tán cặp cho tất cả các đặc trưng, tô màu theo loài hoa (species) và hiển thị histogram trên đường chéo chính để giúp trực quan hóa mối quan hệ giữa các đặc trưng và sự phân bố của chúng theo từng loài."
   ],
   "id": "a9396ab922ff8c50"
  },
  {
   "metadata": {},
   "cell_type": "code",
   "outputs": [],
   "execution_count": null,
   "source": [
    "X_all = pd.concat([X, y], axis = 1)\n",
    "\n",
    "sns.pairplot(X_all, hue='species', palette='tab10', diag_kind='hist')"
   ],
   "id": "fff18cd77083490f"
  },
  {
   "metadata": {},
   "cell_type": "markdown",
   "source": "# 2. Áp dụng PCA (MyPCA) trên tập Iris",
   "id": "281a2d7471e24e9d"
  },
  {
   "metadata": {},
   "cell_type": "markdown",
   "source": "Chuyển đổi DataFrame thành các mảng NumPy.",
   "id": "ba6fdf092bc743bd"
  },
  {
   "metadata": {},
   "cell_type": "code",
   "outputs": [],
   "execution_count": null,
   "source": "X, y = np.array(X), np.array(y)",
   "id": "81aabbe56d6b0f48"
  },
  {
   "metadata": {},
   "cell_type": "markdown",
   "source": [
    "Giảm chiều dữ liệu xuống còn 2 thành pnần chính và sau đó khớp mô hình PCA này với `X`. Quá trình `fit` sẽ thực hiện các bước:\n",
    "\n",
    "<div style=\"text-align: center;\">\n",
    "    <img src=\"Images/pca_procedure.png\" alt=\"PCA Procedure\" width=\"600\"/>\n",
    "</div>"
   ],
   "id": "b44cc66217c4f981"
  },
  {
   "metadata": {},
   "cell_type": "code",
   "outputs": [],
   "execution_count": null,
   "source": [
    "my_pca = MyPCA(n_components = 2)\n",
    "my_pca.fit(X)"
   ],
   "id": "e735861374c71dc1"
  },
  {
   "metadata": {},
   "cell_type": "markdown",
   "source": "Sử dụng mô hình `MyPCA` đã khớp để biến đổi (transform) dữ liệu đặc trưng `X` ban đầu của tập Iris thành không gian 2 chiều mới. Phép biến đổi được thực hiện bằng cách chiếu dữ liệu đã chuẩn hóa lên các thành phần chính: $X = X_{centered} W$.",
   "id": "851e3714668eee3a"
  },
  {
   "metadata": {},
   "cell_type": "code",
   "outputs": [],
   "execution_count": null,
   "source": [
    "# Transform\n",
    "X_transformed = my_pca.transform(X)\n",
    "print(\"\\nDữ liệu sau khi biến đổi (X_transformed) có shape:\", X_transformed.shape)\n",
    "print(\"Một vài mẫu dữ liệu sau khi biến đổi:\")\n",
    "print(X_transformed[:5, :])"
   ],
   "id": "7b1e4e2dd7872518"
  },
  {
   "metadata": {},
   "cell_type": "markdown",
   "source": "# Kiểm tra kết quả MyPCA với PCA của thư viện Scikit-learn",
   "id": "d95d0b802deaf844"
  },
  {
   "metadata": {},
   "cell_type": "markdown",
   "source": "Thực hiện PCA trên cùng dữ liệu Iris `X` sử dụng triển khai `PCA` từ thư viện `sklearn` với `n_components=2` để so sánh và kiểm chứng kết quả của lớp `MyPCA` tự xây dựng. Đoạn code này khởi tạo, huấn luyện mô hình `SklearnPCA`, biến đổi dữ liệu và in ra các thông số quan trọng như tỷ lệ phương sai giải thích (EVR), phương sai giải thích bởi từng thành phần, và tỷ lệ phương sai giải thích tích lũy (CEVR), cùng với shape và một vài mẫu của dữ liệu đã biến đổi.",
   "id": "387b3c4dcb6d3136"
  },
  {
   "metadata": {},
   "cell_type": "code",
   "outputs": [],
   "execution_count": null,
   "source": [
    "from sklearn.decomposition import PCA as SklearnPCA\n",
    "\n",
    "print(\"--- Kiểm tra với sklearn.decomposition.PCA ---\")\n",
    "# 1. Khởi tạo PCA của sklearn\n",
    "sklearn_pca = SklearnPCA(n_components=2)\n",
    "\n",
    "# 2. Khớp mô hình với dữ liệu X\n",
    "sklearn_pca.fit(X)\n",
    "\n",
    "# 3. Biến đổi dữ liệu X\n",
    "X_transformed_sklearn = sklearn_pca.transform(X)\n",
    "\n",
    "print(\"\\nTỷ lệ phương sai giải thích (EVR) cho từng thành phần (sklearn.explained_variance_ratio_):\")\n",
    "# Đây là EVR cho n_components đã chọn\n",
    "print(sklearn_pca.explained_variance_ratio_)\n",
    "# Tương đương với self.explained_variance_ratio_[:n_components] của MyPCA\n",
    "\n",
    "print(\"\\nPhương sai giải thích bởi từng thành phần (sklearn.explained_variance_):\")\n",
    "# Đây là các trị riêng tương ứng với n_components đã chọn, không phải tỷ lệ\n",
    "print(sklearn_pca.explained_variance_)\n",
    "# Tương đương với self.explained_variance_[:n_components] của MyPCA\n",
    "\n",
    "# sklearn không có thuộc tính CEVR trực tiếp, nhưng có thể dễ dàng tính từ EVR\n",
    "cumulative_explained_variance_ratio_sklearn = np.cumsum(sklearn_pca.explained_variance_ratio_)\n",
    "print(\"\\nTỷ lệ phương sai giải thích tích lũy (CEVR) tính từ sklearn.explained_variance_ratio_:\")\n",
    "for i, cum_ratio in enumerate(cumulative_explained_variance_ratio_sklearn):\n",
    "    print(f\"  PC1 đến PC{i+1}: {cum_ratio:.4f}\")\n",
    "print(f\"Tổng phương sai được giải thích bởi {sklearn_pca.n_components_} thành phần: {cumulative_explained_variance_ratio_sklearn[-1]:.4f}\")\n",
    "# Giá trị cuối cùng này tương đương với self.cumulative_explained_variance_ratio_[n_components-1] của MyPCA\n",
    "\n",
    "print(\"\\nDữ liệu sau khi biến đổi (X_transformed_sklearn) có shape:\", X_transformed_sklearn.shape)\n",
    "print(\"Một vài mẫu dữ liệu sau khi biến đổi (sklearn):\")\n",
    "print(X_transformed_sklearn[:5, :]) # Tương đương với X_transformed của MyPCA\n",
    "print(\"---------------------------------------------\")"
   ],
   "id": "ecd6b7ef64fdc417"
  },
  {
   "metadata": {},
   "cell_type": "markdown",
   "source": "# 3. Bài toán Phân cụm K-Means (trên tập ABIDE II)",
   "id": "b706f49054038be"
  },
  {
   "metadata": {},
   "cell_type": "markdown",
   "source": "## 3.1. Tiền xử lý dữ liệu cho tập ABIDE II",
   "id": "7467249b60d5cdc"
  },
  {
   "metadata": {},
   "cell_type": "markdown",
   "source": "Tải bộ dữ liệu ABIDE II từ file CSV (`ABIDE2.csv`). Tách cột 'group' (chứa nhãn Cancer/Normal) làm biến mục tiêu `y`, phần còn lại là đặc trưng `X`.",
   "id": "b43a0b5e2d34acb6"
  },
  {
   "metadata": {},
   "cell_type": "code",
   "outputs": [],
   "execution_count": null,
   "source": [
    "X = pd.read_csv('Dataset/ABIDE2.csv', index_col = 0)\n",
    "y = X['group']"
   ],
   "id": "71fa9758a60f570f"
  },
  {
   "metadata": {},
   "cell_type": "markdown",
   "source": "Hiển thị 5 dòng đầu tiên của DataFrame đặc trưng `X` của bộ dữ liệu ABIDE II.",
   "id": "a00dfd2bd5e0e80c"
  },
  {
   "metadata": {},
   "cell_type": "code",
   "outputs": [],
   "execution_count": null,
   "source": "X.head(5)",
   "id": "25d8f69b0e5970be"
  },
  {
   "metadata": {},
   "cell_type": "markdown",
   "source": "Cung cấp thông tin tóm tắt về DataFrame `X` của bộ dữ liệu ABIDE II.",
   "id": "fbb5f6714a6fb4c1"
  },
  {
   "metadata": {},
   "cell_type": "code",
   "outputs": [],
   "execution_count": null,
   "source": "X.info()",
   "id": "64ab5764de43cb67"
  },
  {
   "metadata": {},
   "cell_type": "markdown",
   "source": "Hiển thị các thống kê mô tả cho các cột số trong DataFrame `X` của bộ dữ liệu ABIDE II.",
   "id": "13174671f309b3d2"
  },
  {
   "metadata": {},
   "cell_type": "code",
   "outputs": [],
   "execution_count": null,
   "source": "X.describe()",
   "id": "66b7fed975ab5a87"
  },
  {
   "metadata": {},
   "cell_type": "markdown",
   "source": [
    "Thực thi một quy trình thử nghiệm bao gồm:\n",
    "\n",
    "* Tiền xử lý dữ liệu (xử lý giá trị thiếu, mã hóa biến hạng mục, loại bỏ các cột có độ lệch thấp, chuẩn hóa)\n",
    "\n",
    "* Giảm chiều bằng PCA (với 1 thành phần chính), và phân cụm bằng thuật toán K-Means (với `k=2` cụm). \n",
    "\n",
    "Mục đích là để đánh giá hiệu suất của K-Means sau khi giảm chiều xuống còn 1 thành phần."
   ],
   "id": "3174cea0a3c0c169"
  },
  {
   "metadata": {},
   "cell_type": "code",
   "outputs": [],
   "execution_count": null,
   "source": [
    "run_experiment(\n",
    "    \"Dataset/ABIDE2.csv\",\n",
    "    skew_threshold=0.1,\n",
    "    component_range=[1],\n",
    "    k=2,\n",
    "    visualize=False,\n",
    "    algorithm=\"KMeans\",\n",
    "    use_poly=False\n",
    ")"
   ],
   "id": "29fc5c2c947f60a"
  },
  {
   "metadata": {},
   "cell_type": "markdown",
   "source": [
    "Thực hiện một thử nghiệm tương tự như trên, nhưng lần này giảm chiều dữ liệu xuống còn 2 thành phần chính và sử dụng thêm đặc trưng đa thức trước khi áp dụng K-Means. \n",
    "\n",
    "Mục đích là đánh giá xem việc tăng số thành phần PCA và bổ sung đặc trưng đa thức có cải thiện hiệu suất phân cụm không."
   ],
   "id": "216df4ff4ebffb62"
  },
  {
   "metadata": {},
   "cell_type": "code",
   "outputs": [],
   "execution_count": null,
   "source": [
    "run_experiment(\n",
    "    \"Dataset/ABIDE2.csv\",\n",
    "    skew_threshold=0.1,\n",
    "    component_range=[2],\n",
    "    k=2,\n",
    "    visualize=False,\n",
    "    algorithm=\"KMeans\",\n",
    "    use_poly=True\n",
    ")"
   ],
   "id": "eef04225c20c657"
  },
  {
   "metadata": {},
   "cell_type": "markdown",
   "source": [
    "Trong thử nghiệm này, thuật toán phân cụm được đổi thành Gaussian Mixture Model (GMM). Dữ liệu được giảm chiều xuống 10 thành phần chính, ngưỡng độ lệch được đặt là 1.0, và không sử dụng đặc trưng đa thức. \n",
    "\n",
    "Mục đích là so sánh hiệu suất của GMM với K-Means và đánh giá ảnh hưởng của việc tăng số thành phần PCA cũng như thay đổi ngưỡng xử lý độ lệch."
   ],
   "id": "254445af1bdb0b74"
  },
  {
   "metadata": {},
   "cell_type": "code",
   "outputs": [],
   "execution_count": null,
   "source": [
    "run_experiment(\n",
    "    \"Dataset/ABIDE2.csv\",\n",
    "    skew_threshold=1.0,\n",
    "    component_range=[10],\n",
    "    k=2,\n",
    "    visualize=False,\n",
    "    algorithm=\"GMM\",\n",
    "    use_poly=False\n",
    ")"
   ],
   "id": "da26534b98d24930"
  },
  {
   "metadata": {},
   "cell_type": "markdown",
   "source": [
    "Thử nghiệm này tiếp tục sử dụng thuật toán GMM, nhưng giảm số thành phần chính xuống còn 5, đặt lại ngưỡng độ lệch là 0.1, và lần này có sử dụng đặc trưng đa thức\n",
    "\n",
    "Mục đích là đánh giá sự kết hợp của GMM, một số lượng thành phần PCA vừa phải, và việc sử dụng đặc trưng đa thức."
   ],
   "id": "ad7ada6aa0e34296"
  },
  {
   "metadata": {},
   "cell_type": "code",
   "outputs": [],
   "execution_count": null,
   "source": [
    "run_experiment(\n",
    "    \"Dataset/ABIDE2.csv\",\n",
    "    skew_threshold=0.1,\n",
    "    component_range=[5],\n",
    "    k=2,\n",
    "    visualize=False,\n",
    "    algorithm=\"GMM\",\n",
    "    use_poly=True\n",
    ")"
   ],
   "id": "25b69696476b2cc9"
  },
  {
   "metadata": {
    "ExecuteTime": {
     "end_time": "2025-05-16T02:45:55.333522Z",
     "start_time": "2025-05-16T02:45:51.607718Z"
    }
   },
   "cell_type": "code",
   "source": [
    "run_experiment(\n",
    "    \"Dataset/encoded_data.csv\",\n",
    "    component_range=[33],\n",
    "    algorithm=\"GMM\"\n",
    ")"
   ],
   "id": "3fa3c822f1c4e0e7",
   "outputs": [
    {
     "name": "stdout",
     "output_type": "stream",
     "text": [
      "=== Experiment started at 20250516_094551 ===\n",
      "Dataset: Dataset/encoded_data.csv\n",
      "\n",
      "--- Feature Transformation ---\n",
      "Loading data from Dataset/encoded_data.csv...\n",
      "Original data shape: (1004, 129)\n",
      "Number of numeric features: 128\n",
      "Number of highly skewed features: 8\n",
      "Number of features selected for polynomial transformation: 29\n",
      "Generating interaction terms...\n",
      "Standardizing features...\n",
      "Transformed data saved to ./experiment_20250516_094551\\transformed_data.csv\n",
      "Final data shape: (1004, 564)\n",
      "\n",
      "Transformation Summary:\n",
      "Visualizations saved to 'feature_transformations.png'\n",
      "Transformed data shape: (1004, 563)\n",
      "\n",
      "--- PCA and Clustering Experiments ---\n",
      "\n",
      "Testing with n_components=33\n",
      "--- Kết quả Fit ---\n",
      "Số thành phần chính được chọn: 33\n",
      "Tỷ lệ phương sai giải thích (EVR):\n",
      "  PC1: 0.1064\n",
      "  PC2: 0.0339\n",
      "  PC3: 0.0262\n",
      "  PC4: 0.0251\n",
      "  PC5: 0.0209\n",
      "  PC6: 0.0191\n",
      "  PC7: 0.0188\n",
      "  PC8: 0.0174\n",
      "  PC9: 0.0168\n",
      "  PC10: 0.0160\n",
      "  PC11: 0.0154\n",
      "  PC12: 0.0149\n",
      "  PC13: 0.0143\n",
      "  PC14: 0.0139\n",
      "  PC15: 0.0131\n",
      "  PC16: 0.0129\n",
      "  PC17: 0.0121\n",
      "  PC18: 0.0118\n",
      "  PC19: 0.0113\n",
      "  PC20: 0.0110\n",
      "  PC21: 0.0104\n",
      "  PC22: 0.0101\n",
      "  PC23: 0.0098\n",
      "  PC24: 0.0093\n",
      "  PC25: 0.0090\n",
      "  PC26: 0.0084\n",
      "  PC27: 0.0079\n",
      "  PC28: 0.0077\n",
      "  PC29: 0.0075\n",
      "  PC30: 0.0072\n",
      "  PC31: 0.0069\n",
      "  PC32: 0.0065\n",
      "  PC33: 0.0065\n",
      "\n",
      "Tỷ lệ phương sai giải thích tích lũy (CEVR):\n",
      "  PC1 đến PC1: 0.1064\n",
      "  PC1 đến PC2: 0.1404\n",
      "  PC1 đến PC3: 0.1666\n",
      "  PC1 đến PC4: 0.1917\n",
      "  PC1 đến PC5: 0.2126\n",
      "  PC1 đến PC6: 0.2317\n",
      "  PC1 đến PC7: 0.2506\n",
      "  PC1 đến PC8: 0.2680\n",
      "  PC1 đến PC9: 0.2847\n",
      "  PC1 đến PC10: 0.3008\n",
      "  PC1 đến PC11: 0.3162\n",
      "  PC1 đến PC12: 0.3311\n",
      "  PC1 đến PC13: 0.3453\n",
      "  PC1 đến PC14: 0.3592\n",
      "  PC1 đến PC15: 0.3723\n",
      "  PC1 đến PC16: 0.3852\n",
      "  PC1 đến PC17: 0.3972\n",
      "  PC1 đến PC18: 0.4090\n",
      "  PC1 đến PC19: 0.4203\n",
      "  PC1 đến PC20: 0.4313\n",
      "  PC1 đến PC21: 0.4417\n",
      "  PC1 đến PC22: 0.4517\n",
      "  PC1 đến PC23: 0.4616\n",
      "  PC1 đến PC24: 0.4709\n",
      "  PC1 đến PC25: 0.4799\n",
      "  PC1 đến PC26: 0.4882\n",
      "  PC1 đến PC27: 0.4962\n",
      "  PC1 đến PC28: 0.5039\n",
      "  PC1 đến PC29: 0.5114\n",
      "  PC1 đến PC30: 0.5186\n",
      "  PC1 đến PC31: 0.5255\n",
      "  PC1 đến PC32: 0.5320\n",
      "  PC1 đến PC33: 0.5385\n",
      "\n",
      "Tổng phương sai được giải thích: 0.5385\n",
      "--------------------\n",
      "Explained variance ratio: 0.5385\n",
      "Clustering accuracy: 0.6295\n",
      "F1 score: 0.6035\n",
      "Silhouette score: 0.2167\n",
      "\n",
      "Results saved to ./experiment_20250516_094551\\experiment_results.csv\n",
      "\n",
      "Best configuration:\n",
      "n_components: 33.0\n",
      "Accuracy: 0.6295\n",
      "F1 score: 0.6035\n",
      "Silhouette score: 0.2167\n",
      "\n",
      "=== Experiment completed ===\n"
     ]
    },
    {
     "data": {
      "text/plain": [
       "'./experiment_20250516_094551'"
      ]
     },
     "execution_count": 35,
     "metadata": {},
     "output_type": "execute_result"
    }
   ],
   "execution_count": 35
  }
 ],
 "metadata": {
  "kernelspec": {
   "display_name": "DeepML",
   "language": "python",
   "name": "python3"
  },
  "language_info": {
   "codemirror_mode": {
    "name": "ipython",
    "version": 3
   },
   "file_extension": ".py",
   "mimetype": "text/x-python",
   "name": "python",
   "nbconvert_exporter": "python",
   "pygments_lexer": "ipython3",
   "version": "3.11.7"
  }
 },
 "nbformat": 4,
 "nbformat_minor": 5
}
